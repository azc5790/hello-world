{
  "nbformat": 4,
  "nbformat_minor": 0,
  "metadata": {
    "colab": {
      "name": "GroupAssignment4.ipynb",
      "provenance": [],
      "collapsed_sections": []
    },
    "kernelspec": {
      "name": "python3",
      "display_name": "Python 3"
    }
  },
  "cells": [
    {
      "cell_type": "code",
      "metadata": {
        "id": "WwrmOSGIDW1l",
        "colab_type": "code",
        "colab": {}
      },
      "source": [
        "import sqlite3"
      ],
      "execution_count": 0,
      "outputs": []
    },
    {
      "cell_type": "markdown",
      "metadata": {
        "id": "2YwRWNAC6oqG",
        "colab_type": "text"
      },
      "source": [
        "![alt text](https://github.com/azc5790/hello-world/blob/master/Screen%20Shot%202019-11-20%20at%2012.26.07%20PM.png?raw=true)"
      ]
    },
    {
      "cell_type": "code",
      "metadata": {
        "id": "Sb_OSRGNDyDV",
        "colab_type": "code",
        "colab": {}
      },
      "source": [
        "connectionToDatabase = sqlite3.connect('ThemeParkData') \n",
        "cursor = connectionToDatabase.cursor()\n",
        "\n",
        "cursor.execute('''drop table IF EXISTS Customer''')\n",
        "connectionToDatabase.commit()\n",
        "cursor.execute('''create table Customer (WristbandID real PRIMARY KEY, FName text, LName text, Age real, Gender text)''')\n",
        "connectionToDatabase.commit()\n",
        "\n",
        "cursor.execute('''drop table IF EXISTS Ride''')\n",
        "connectionToDatabase.commit()\n",
        "cursor.execute('''create table Ride (RideID real PRIMARY KEY, RideName text, Type text, AvgWaitTime real, Duration text, Location text, CustomerPerDay real)''')\n",
        "connectionToDatabase.commit()\n",
        "\n",
        "cursor.execute('''drop table IF EXISTS FastPass''')\n",
        "connectionToDatabase.commit()\n",
        "cursor.execute('''create table FastPass (FastPassID real PRIMARY KEY, WristbandID real, Time text, RideID real, Ride text, Price real)''')\n",
        "connectionToDatabase.commit()\n",
        "\n",
        "cursor.execute('''drop table IF EXISTS Merchandise''')\n",
        "connectionToDatabase.commit()\n",
        "cursor.execute('''create table Merchandise (Barcode text PRIMARY KEY, Type text, Character text, Price real, StoreLocation text)''')\n",
        "connectionToDatabase.commit()\n",
        "\n",
        "cursor.execute('''drop table IF EXISTS Restaurant''')\n",
        "connectionToDatabase.commit()\n",
        "cursor.execute('''create table Restaurant (Name text PRIMARY KEY, TypeOfFood text, Location text, AvgPrice real, TotalSales real)''')\n",
        "connectionToDatabase.commit()\n",
        "\n",
        "cursor.execute('''drop table IF EXISTS Show''')\n",
        "connectionToDatabase.commit()\n",
        "cursor.execute('''create table Show (ShowTitle text PRIMARY KEY, StartTime real, Duration text, Location text, MainCharacter text)''')\n",
        "connectionToDatabase.commit()\n",
        "\n",
        "cursor.execute('''drop table IF EXISTS Purchases''')\n",
        "connectionToDatabase.commit()\n",
        "cursor.execute('''create table Purchases (PurchasesID real PRIMARY KEY, WristbandID real, Price real, Type text, Location text)''')\n",
        "connectionToDatabase.commit()"
      ],
      "execution_count": 0,
      "outputs": []
    },
    {
      "cell_type": "code",
      "metadata": {
        "id": "LljHNDrHEvHo",
        "colab_type": "code",
        "colab": {}
      },
      "source": [
        "#Insert data into each table, be sure to pay attention to if it is text (data must be a string) or real (data must be numbers)\n",
        "#Customer table\n",
        "cursor.execute('''insert into Customer values (123432, 'Joe', 'Mama', 32, 'Male');''')\n",
        "connectionToDatabase.commit()\n",
        "\n",
        "cursor.execute('''insert into Customer values (123433, 'Meredith', 'Palmer', 56, 'Female');''')\n",
        "connectionToDatabase.commit()\n",
        "\n",
        "cursor.execute('''insert into Customer values (123434, 'Suzie', 'Talksalot', 11, 'Female');''')\n",
        "connectionToDatabase.commit()\n",
        "\n",
        "cursor.execute('''insert into Customer values (123435, 'Jimmy', 'Toocoolforschool', 14, 'Male');''')\n",
        "connectionToDatabase.commit()\n",
        "\n",
        "cursor.execute('''insert into Customer values (123436, 'Harriet', 'Ubman', 16, 'Female');''')\n",
        "connectionToDatabase.commit()\n",
        "#continue like this for each table"
      ],
      "execution_count": 0,
      "outputs": []
    },
    {
      "cell_type": "code",
      "metadata": {
        "id": "OON9Tdo1Kunb",
        "colab_type": "code",
        "colab": {}
      },
      "source": [
        "#Ride table\n",
        "#replace data with new stuff\n",
        "cursor.execute('''insert into Ride values (123549, 'Tower of Terror', 'Drop Tower', 47, '5:20', 'Hollywood Studios', 10789);''')\n",
        "connectionToDatabase.commit()\n",
        "\n",
        "cursor.execute('''insert into Ride values (489757, 'Rock n Roller Coaster', 'Steel Launch', 63, '1:03', 'Hollywood Studios', 11675);''')\n",
        "connectionToDatabase.commit()\n",
        "\n",
        "cursor.execute('''insert into Ride values (9385729, 'Big Thunder Mountain Railroad', 'Mine Train', 35, '2:37', 'Magic Kingdom', 7896);''')\n",
        "connectionToDatabase.commit()\n",
        "\n",
        "cursor.execute('''insert into Ride values (2947590, 'Expedition Everest', 'Steel', 77, '3:04', 'Animal Kingdom', 10435);''')\n",
        "connectionToDatabase.commit()\n",
        "\n",
        "cursor.execute('''insert into Ride values (3948394, 'Kali River Rapids', 'Water', 24, '1:46', 'Animal Kingdom', 6781);''')\n",
        "connectionToDatabase.commit()\n"
      ],
      "execution_count": 0,
      "outputs": []
    },
    {
      "cell_type": "code",
      "metadata": {
        "id": "4zCfbaWUK2JV",
        "colab_type": "code",
        "colab": {}
      },
      "source": [
        "#FastPass table\n",
        "#replace data with new stuff\n",
        "cursor.execute('''insert into FastPass values (46, 123434, '2:15', 122354, 'Tower of Terror', 15);''')\n",
        "connectionToDatabase.commit()\n",
        "\n",
        "cursor.execute('''insert into FastPass values (47, 123434, '4:30', 294759, 'Expedition Everest', 15);''')\n",
        "connectionToDatabase.commit()\n",
        "\n",
        "cursor.execute('''insert into FastPass values (49, 123436, '12:45', 482975, 'Rock n Roller Coaster', 10);''')\n",
        "connectionToDatabase.commit()\n",
        "\n",
        "cursor.execute('''insert into FastPass values (52, 123435, '10:15', 938572, 'Big Thunder Mountain Railroad', 5);''')\n",
        "connectionToDatabase.commit()\n",
        "\n",
        "cursor.execute('''insert into FastPass values (59, 123432, '5:15', 122354, 'Tower of Terror', 15);''')\n",
        "connectionToDatabase.commit()"
      ],
      "execution_count": 0,
      "outputs": []
    },
    {
      "cell_type": "code",
      "metadata": {
        "id": "W_fUm6crK4Mo",
        "colab_type": "code",
        "colab": {}
      },
      "source": [
        "#Merchandise table\n",
        "#replace data with new stuff\n",
        "cursor.execute('''insert into Merchandise values (1968, 123432, 'Mickey Plush', 30, 'Magic Kingdom');''')\n",
        "connectionToDatabase.commit()\n",
        " \n",
        "cursor.execute('''insert into Merchandise values (1889, 123433, 'Tangled Towel', 35, 'Epcot');''')\n",
        "connectionToDatabase.commit()\n",
        " \n",
        "cursor.execute('''insert into Merchandise values (1879, 123434, 'Mickey Mouse Ears', 28, 'Epcot');''')\n",
        "connectionToDatabase.commit()\n",
        " \n",
        "cursor.execute('''insert into Merchandise values (1522, 123436, 'Frozen Towel', 33, 'Disneyland');''')\n",
        "connectionToDatabase.commit()\n",
        " \n",
        "cursor.execute('''insert into Merchandise values (1970, 123435, 'Frozen Costume', 54, 'Magic Kingdom');''')\n",
        "connectionToDatabase.commit()\n"
      ],
      "execution_count": 0,
      "outputs": []
    },
    {
      "cell_type": "code",
      "metadata": {
        "id": "Ek-SJY9rK7yc",
        "colab_type": "code",
        "colab": {}
      },
      "source": [
        "#Restaurant table\n",
        "cursor.execute('''insert into Restaurant values ('Tonys Town Square Restaurant', 'Italian', 'Magic Kingdom', 78, 30389);''')\n",
        "connectionToDatabase.commit()\n",
        " \n",
        "cursor.execute('''insert into Restaurant values ('Coral Reef Restaurant', 'Seafood', 'Epcot', 85, 50384);''')\n",
        "connectionToDatabase.commit()\n",
        " \n",
        "cursor.execute('''insert into Restaurant values ('Le Cellier Steakhouse', 'Steak', 'Epcot', 185, 77193);''')\n",
        "connectionToDatabase.commit()\n",
        " \n",
        "cursor.execute('''insert into Restaurant values ('Bubba Gump Shrimp Co.', 'Seafood', 'Animal Kingdom', 61, 29017);''')\n",
        "connectionToDatabase.commit()\n",
        " \n",
        "cursor.execute('''insert into Restaurant values ('Dockside Diner', 'Takeout', 'Hollywood Studios', 59, 33983);''')\n",
        "connectionToDatabase.commit()\n"
      ],
      "execution_count": 0,
      "outputs": []
    },
    {
      "cell_type": "code",
      "metadata": {
        "id": "SQcfmDHtK9rS",
        "colab_type": "code",
        "outputId": "aa305b6e-e9d9-48f1-ce1e-6ee93ecaa5d8",
        "colab": {
          "base_uri": "https://localhost:8080/",
          "height": 232
        }
      },
      "source": [
        "#Show table\n",
        "#replace data with new stuff\n",
        "cursor.execute('''insert into Show values ('Mickey All Around the World', '8:30', '2:00', Epcot, 'Mickey');''')\n",
        "connectionToDatabase.commit()\n",
        "\n",
        "cursor.execute('''insert into Show values ('Beauty and the Beast', '2:10', '1:00', Magic Kingdom, 'Bella');''')\n",
        "connectionToDatabase.commit()\n",
        "\n",
        "cursor.execute('''insert into Show values ('Sleeping Beauty', '3:15', '45', Disney World Resort, 'Aurora');''')\n",
        "connectionToDatabase.commit()\n",
        " \n",
        "cursor.execute('''insert into Show values ('Fantasmic', '7:45', '1:20', Disney Springs, 'Mickey Mouse and Friends');''')\n",
        "connectionToDatabase.commit()\n",
        " \n",
        "cursor.execute('''insert into Show values ('Jingle Bell Jingle BAM', '9:00', '1:15', Hollywood Studios, 'Mickey Mouse');''')\n",
        "connectionToDatabase.commit()"
      ],
      "execution_count": 0,
      "outputs": [
        {
          "output_type": "error",
          "ename": "OperationalError",
          "evalue": "ignored",
          "traceback": [
            "\u001b[0;31m---------------------------------------------------------------------------\u001b[0m",
            "\u001b[0;31mOperationalError\u001b[0m                          Traceback (most recent call last)",
            "\u001b[0;32m<ipython-input-10-9e352415c08c>\u001b[0m in \u001b[0;36m<module>\u001b[0;34m()\u001b[0m\n\u001b[0;32m----> 1\u001b[0;31m \u001b[0mcursor\u001b[0m\u001b[0;34m.\u001b[0m\u001b[0mexecute\u001b[0m\u001b[0;34m(\u001b[0m\u001b[0;34m'''insert into Show values ('Mickey All Around the World', '8:30', '2:00', Epcot, 'Mickey');'''\u001b[0m\u001b[0;34m)\u001b[0m\u001b[0;34m\u001b[0m\u001b[0;34m\u001b[0m\u001b[0m\n\u001b[0m\u001b[1;32m      2\u001b[0m \u001b[0mconnectionToDatabase\u001b[0m\u001b[0;34m.\u001b[0m\u001b[0mcommit\u001b[0m\u001b[0;34m(\u001b[0m\u001b[0;34m)\u001b[0m\u001b[0;34m\u001b[0m\u001b[0;34m\u001b[0m\u001b[0m\n\u001b[1;32m      3\u001b[0m \u001b[0;34m\u001b[0m\u001b[0m\n\u001b[1;32m      4\u001b[0m \u001b[0mcursor\u001b[0m\u001b[0;34m.\u001b[0m\u001b[0mexecute\u001b[0m\u001b[0;34m(\u001b[0m\u001b[0;34m'''insert into Show values ('Beauty and the Beast', '2:10', '1:00', Magic Kingdom, 'Bella');'''\u001b[0m\u001b[0;34m)\u001b[0m\u001b[0;34m\u001b[0m\u001b[0;34m\u001b[0m\u001b[0m\n\u001b[1;32m      5\u001b[0m \u001b[0mconnectionToDatabase\u001b[0m\u001b[0;34m.\u001b[0m\u001b[0mcommit\u001b[0m\u001b[0;34m(\u001b[0m\u001b[0;34m)\u001b[0m\u001b[0;34m\u001b[0m\u001b[0;34m\u001b[0m\u001b[0m\n",
            "\u001b[0;31mOperationalError\u001b[0m: no such column: Epcot"
          ]
        }
      ]
    },
    {
      "cell_type": "code",
      "metadata": {
        "id": "wk4fc7u5LAMs",
        "colab_type": "code",
        "colab": {}
      },
      "source": [
        "#Purchases table\n",
        "#replace data with new stuff\n",
        "cursor.execute('''insert into Purchases values (14589, 123432, 16.26, 'Clothing', 'Mouse Gear');''')\n",
        "connectionToDatabase.commit()\n",
        "\n",
        "cursor.execute('''insert into Purchases values (17923, 123433, 66.78, 'Souvenir', 'Gateway Gifts');''' )\n",
        "connectionToDatabase.commit()\n",
        "\n",
        "cursor.execute('''insert into Purchases values (78345, 123434, 82.45, 'Food', 'Dockside Diner');''' )\n",
        "connectionToDatabase.commit()\n",
        "\n",
        "cursor.execute('''insert into Purchases values (31345, 123436, 140.67, 'Food', 'Coral Reef Restaurant');''' )\n",
        "connectionToDatabase.commit()\n",
        "\n",
        "cursor.execute('''insert into Purchases values (66783, 123435, 93.85, 'Clothing', 'SeaBase Gift Shop');''' )\n",
        "connectionToDatabase.commit()"
      ],
      "execution_count": 0,
      "outputs": []
    },
    {
      "cell_type": "code",
      "metadata": {
        "id": "rXTExi3myO0E",
        "colab_type": "code",
        "colab": {}
      },
      "source": [
        "#Queries go here\n",
        "\n"
      ],
      "execution_count": 0,
      "outputs": []
    },
    {
      "cell_type": "markdown",
      "metadata": {
        "id": "YLuWP0UKb4bP",
        "colab_type": "text"
      },
      "source": [
        "**What is the average wait time for the top 5 rides?**"
      ]
    },
    {
      "cell_type": "code",
      "metadata": {
        "id": "VuFMU78ib9BH",
        "colab_type": "code",
        "colab": {}
      },
      "source": [
        "cursor.execute('''SELECT RideName, SUM(Duration) FROM Ride GROUP BY RideName''')\n",
        "for row in cursor.fetchall():\n",
        "  print (row)\n"
      ],
      "execution_count": 0,
      "outputs": []
    },
    {
      "cell_type": "markdown",
      "metadata": {
        "id": "LodpfL0DcNTo",
        "colab_type": "text"
      },
      "source": [
        "\n",
        "This question is important because it shows out of the most popular rides which of them have the longest wait times and which have the shortest wait times. By showing the average wait times for the top 5 rides we are able to see how long it normally takes a person to wait for one of the top rides at the park. Out of the top 5 rides we are able to see that if a ride has a longer wait time then it is more popular than rides with a shorter wait time.\n"
      ]
    },
    {
      "cell_type": "markdown",
      "metadata": {
        "id": "vVwFRAZKQwzz",
        "colab_type": "text"
      },
      "source": [
        "**What type of restaurant generates the most sales revenue?**"
      ]
    },
    {
      "cell_type": "code",
      "metadata": {
        "id": "Fvpic9u9Qilf",
        "colab_type": "code",
        "colab": {}
      },
      "source": [
        "cursor.execute('''SELECT TypeOfFood, SUM(TotalSales) FROM Restaurant GROUP BY TypeOfFood ORDER BY SUM(TotalSales) DESC;''')\n",
        "for row in cursor.fetchall():\n",
        "  print (row)"
      ],
      "execution_count": 0,
      "outputs": []
    },
    {
      "cell_type": "markdown",
      "metadata": {
        "id": "0Fpg_TxnQ1LJ",
        "colab_type": "text"
      },
      "source": [
        "This question is extremely important in determining the most profitable types of restaurant located at the parks. By looking at how much money each type of restaurant makes shows what restaurants park goers are actively visiting. This shows what types of restaurants should be added into new parks and what restaurants might need to be removed from old parks.\n"
      ]
    },
    {
      "cell_type": "markdown",
      "metadata": {
        "id": "SDW3IVJ__eww",
        "colab_type": "text"
      },
      "source": [
        "**What merchandise is the most expensive?**"
      ]
    },
    {
      "cell_type": "code",
      "metadata": {
        "id": "pnjIc5cuAoyO",
        "colab_type": "code",
        "outputId": "0d4af0ac-f6d8-4df3-81f7-b5f7dd7d2787",
        "colab": {
          "base_uri": "https://localhost:8080/",
          "height": 102
        }
      },
      "source": [
        "cursor.execute('''SELECT Character FROM Merchandise ORDER BY Price DESC''')\n",
        "for row in cursor.fetchall():\n",
        "  print(row)"
      ],
      "execution_count": 0,
      "outputs": [
        {
          "output_type": "stream",
          "text": [
            "('Frozen Costume',)\n",
            "('Tangled Towel',)\n",
            "('Frozen Towel',)\n",
            "('Mickey Plush',)\n",
            "('Mickey Mouse Ears',)\n"
          ],
          "name": "stdout"
        }
      ]
    },
    {
      "cell_type": "markdown",
      "metadata": {
        "id": "6Qsdx3U7DpJL",
        "colab_type": "text"
      },
      "source": [
        "This question is important because it allows the park to see which item cost the most and which items cost the least. By sorting the items by price from most expensive to least expensive, the park can keep track of how much an item is and whether they need to adjust the price or not. If the park sees that one item is not being bought as much they can just check to see whether the price is too high compared to similar items.\n"
      ]
    }
  ]
}